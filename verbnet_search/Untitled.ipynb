{
 "cells": [
  {
   "cell_type": "code",
   "execution_count": 216,
   "metadata": {},
   "outputs": [],
   "source": [
    "import _pickle as pickle\n",
    "import cgi\n",
    "import json\n",
    "import csv\n",
    "\n",
    "classes_dict = pickle.load(open('save.p','rb'))\n",
    "\n",
    "def frames_given_verb(search_verb,d_list=classes_dict):\n",
    "    clss = class_given_verb(search_verb)\n",
    "    def frames_given_class(clss):\n",
    "        frames = list(clss.items())[0][1][-1]['frames']\n",
    "        old_class = list(clss.items())[0][0]\n",
    "        fst = old_class[:old_class.index('-')+1]\n",
    "        snd = old_class[old_class.index('-')+1:]\n",
    "        if snd.rfind('-') == -1:\n",
    "            return(frames)\n",
    "        else:\n",
    "            snd = snd[:snd.rfind('-')]\n",
    "            search_class = fst + snd\n",
    "            for x in classes_dict:\n",
    "                for keys in x:\n",
    "                    if search_class == keys: # change made here\n",
    "                        new_class = x\n",
    "            return(frames + frames_given_class(new_class))\n",
    "    return(frames_given_class(clss))\n",
    "\n",
    "def class_given_verb(search_verb):\n",
    "\t'''returns the class dictionary that a verb is in'''\n",
    "\tsearch_verb = search_verb.split('(class: ')\n",
    "\tsearch_class = search_verb[-1]\n",
    "\tsearch_class = search_class.replace(')','')\n",
    "\tfor x in classes_dict:\n",
    "\t\tfor keys in x:\n",
    "\t\t\tif search_class == keys: # change made here\n",
    "\t\t\t\tcorrect_class = x\n",
    "\treturn(correct_class)\n",
    "\n",
    "def gen_dict_extract(key, var):\n",
    "\t''''This function extracts whatever keys out of the dictionaries'''\n",
    "\tif hasattr(var,'iteritems'):\n",
    "\t\tfor k, v in var.iteritems():\n",
    "\t\t\tif k == key:\n",
    "\t\t\t\tyield v\n",
    "\t\t\tif isinstance(v, dict):\n",
    "\t\t\t\tfor result in gen_dict_extract(key, v):\n",
    "\t\t\t\t\tyield result\n",
    "\t\t\telif isinstance(v, list):\n",
    "\t\t\t\tfor d in v:\n",
    "\t\t\t\t\tfor result in gen_dict_extract(key, d):\n",
    "\t\t\t\t\t\tyield result"
   ]
  },
  {
   "cell_type": "code",
   "execution_count": 217,
   "metadata": {
    "scrolled": false
   },
   "outputs": [
    {
     "name": "stdout",
     "output_type": "stream",
     "text": [
      "{'leave-51.2': [{'members': ['abandon', 'split']}, {'ThemRole': ['Theme', 'Source']}, {'frames': ['NP V NP.initial_location']}]}\n"
     ]
    }
   ],
   "source": [
    "verb = 'abandon (class: leave-51.2)'\n",
    "\n",
    "correct_class = class_given_verb(verb)\n",
    "print(correct_class)"
   ]
  },
  {
   "cell_type": "code",
   "execution_count": 218,
   "metadata": {},
   "outputs": [
    {
     "name": "stdout",
     "output_type": "stream",
     "text": [
      "['NP V NP.initial_location']\n"
     ]
    }
   ],
   "source": [
    "print(frames_given_verb('abandon (class: leave-51.2)'))"
   ]
  },
  {
   "cell_type": "code",
   "execution_count": 220,
   "metadata": {},
   "outputs": [
    {
     "data": {
      "text/plain": [
       "['NP V NP',\n",
       " 'NP V NP PP.initial_location',\n",
       " 'NP V NP PP.destination',\n",
       " 'NP V NP PP.initial_location PP.destination',\n",
       " 'NP V NP PP.destination PP.initial_location',\n",
       " 'NP V NP',\n",
       " 'NP V NP PP.destination',\n",
       " 'NP V NP PP.initial_location',\n",
       " 'NP V NP PP.initial_location PP.destination',\n",
       " 'NP V NP PP.destination PP.initial_location']"
      ]
     },
     "execution_count": 220,
     "metadata": {},
     "output_type": "execute_result"
    }
   ],
   "source": [
    "frames_given_verb('heave (class: carry-11.4-1)')"
   ]
  },
  {
   "cell_type": "code",
   "execution_count": 158,
   "metadata": {},
   "outputs": [
    {
     "data": {
      "text/plain": [
       "'do'"
      ]
     },
     "execution_count": 158,
     "metadata": {},
     "output_type": "execute_result"
    }
   ],
   "source": [
    "'dog'[:'dog'.rfind('g')]"
   ]
  },
  {
   "cell_type": "code",
   "execution_count": null,
   "metadata": {
    "collapsed": true
   },
   "outputs": [],
   "source": []
  }
 ],
 "metadata": {
  "kernelspec": {
   "display_name": "Python 3",
   "language": "python",
   "name": "python3"
  },
  "language_info": {
   "codemirror_mode": {
    "name": "ipython",
    "version": 3
   },
   "file_extension": ".py",
   "mimetype": "text/x-python",
   "name": "python",
   "nbconvert_exporter": "python",
   "pygments_lexer": "ipython3",
   "version": "3.6.1"
  }
 },
 "nbformat": 4,
 "nbformat_minor": 2
}
