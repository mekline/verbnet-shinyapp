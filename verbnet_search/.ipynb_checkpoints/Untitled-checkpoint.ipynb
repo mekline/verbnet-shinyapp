{
 "cells": [
  {
   "cell_type": "code",
   "execution_count": 180,
   "metadata": {},
   "outputs": [],
   "source": [
    "import _pickle as pickle\n",
    "import cgi\n",
    "import json\n",
    "import csv\n",
    "\n",
    "classes_dict = pickle.load(open('save.p','rb'))\n",
    "\n",
    "def frames_given_verb(search_verb,d_list=classes_dict):\n",
    "    clss = class_given_verb(search_verb)\n",
    "    def frames_given_class(clss):\n",
    "        frames = list(clss.items())[0][1][2]['frames']\n",
    "        old_class = list(clss.items())[0][0]\n",
    "        fst = old_class[:old_class.index('-')+1]\n",
    "        snd = old_class[old_class.index('-')+1:]\n",
    "        if snd.rfind('-') == -1:\n",
    "            return([])\n",
    "        else:\n",
    "            snd = snd[:snd.rfind('-')]\n",
    "            print(snd)\n",
    "            search_class = fst + snd\n",
    "            for x in classes_dict:\n",
    "                for keys in x:\n",
    "                    if search_class == keys: # change made here\n",
    "                        new_class = x\n",
    "            return(frames + frames_given_class(new_class))\n",
    "    return(frames_given_class(clss))\n",
    "\n",
    "def class_given_verb(search_verb):\n",
    "\t'''returns the class dictionary that a verb is in'''\n",
    "\tsearch_verb = search_verb.split('(class: ')\n",
    "\tsearch_class = search_verb[-1]\n",
    "\tsearch_class = search_class.replace(')','')\n",
    "\tprint(search_class)\n",
    "\tfor x in classes_dict:\n",
    "\t\tfor keys in x:\n",
    "\t\t\tif search_class == keys: # change made here\n",
    "\t\t\t\tcorrect_class = x\n",
    "\treturn(correct_class)\n",
    "\n",
    "def gen_dict_extract(key, var):\n",
    "\t''''This function extracts whatever keys out of the dictionaries'''\n",
    "\tif hasattr(var,'iteritems'):\n",
    "\t\tfor k, v in var.iteritems():\n",
    "\t\t\tif k == key:\n",
    "\t\t\t\tyield v\n",
    "\t\t\tif isinstance(v, dict):\n",
    "\t\t\t\tfor result in gen_dict_extract(key, v):\n",
    "\t\t\t\t\tyield result\n",
    "\t\t\telif isinstance(v, list):\n",
    "\t\t\t\tfor d in v:\n",
    "\t\t\t\t\tfor result in gen_dict_extract(key, d):\n",
    "\t\t\t\t\t\tyield result"
   ]
  },
  {
   "cell_type": "code",
   "execution_count": 181,
   "metadata": {
    "scrolled": false
   },
   "outputs": [
    {
     "name": "stdout",
     "output_type": "stream",
     "text": [
      "leave-51.2\n",
      "{'leave-51.2': [{'members': ['abandon', 'split']}, {'ThemRole': ['Theme', 'Source']}, {'frames': ['NP V NP.initial_location']}]}\n"
     ]
    }
   ],
   "source": [
    "verb = 'abandon (class: leave-51.2)'\n",
    "\n",
    "correct_class = class_given_verb(verb)\n",
    "print(correct_class)"
   ]
  },
  {
   "cell_type": "code",
   "execution_count": 182,
   "metadata": {},
   "outputs": [
    {
     "name": "stdout",
     "output_type": "stream",
     "text": [
      "leave-51.2\n",
      "51.\n"
     ]
    },
    {
     "ename": "UnboundLocalError",
     "evalue": "local variable 'new_class' referenced before assignment",
     "output_type": "error",
     "traceback": [
      "\u001b[0;31m---------------------------------------------------------------------------\u001b[0m",
      "\u001b[0;31mUnboundLocalError\u001b[0m                         Traceback (most recent call last)",
      "\u001b[0;32m<ipython-input-182-3f14be440c93>\u001b[0m in \u001b[0;36m<module>\u001b[0;34m()\u001b[0m\n\u001b[0;32m----> 1\u001b[0;31m \u001b[0mprint\u001b[0m\u001b[0;34m(\u001b[0m\u001b[0mframes_given_verb\u001b[0m\u001b[0;34m(\u001b[0m\u001b[0;34m'abandon (class: leave-51.2)'\u001b[0m\u001b[0;34m)\u001b[0m\u001b[0;34m)\u001b[0m\u001b[0;34m\u001b[0m\u001b[0m\n\u001b[0m",
      "\u001b[0;32m<ipython-input-180-6c62797c66c7>\u001b[0m in \u001b[0;36mframes_given_verb\u001b[0;34m(search_verb, d_list)\u001b[0m\n\u001b[1;32m     21\u001b[0m                     \u001b[0mnew_class\u001b[0m \u001b[0;34m=\u001b[0m \u001b[0mx\u001b[0m\u001b[0;34m\u001b[0m\u001b[0m\n\u001b[1;32m     22\u001b[0m         \u001b[0;32mreturn\u001b[0m\u001b[0;34m(\u001b[0m\u001b[0mframes\u001b[0m \u001b[0;34m+\u001b[0m \u001b[0mframes_given_class\u001b[0m\u001b[0;34m(\u001b[0m\u001b[0mnew_class\u001b[0m\u001b[0;34m)\u001b[0m\u001b[0;34m)\u001b[0m\u001b[0;34m\u001b[0m\u001b[0m\n\u001b[0;32m---> 23\u001b[0;31m     \u001b[0;32mreturn\u001b[0m\u001b[0;34m(\u001b[0m\u001b[0mframes_given_class\u001b[0m\u001b[0;34m(\u001b[0m\u001b[0mclss\u001b[0m\u001b[0;34m)\u001b[0m\u001b[0;34m)\u001b[0m\u001b[0;34m\u001b[0m\u001b[0m\n\u001b[0m\u001b[1;32m     24\u001b[0m \u001b[0;34m\u001b[0m\u001b[0m\n\u001b[1;32m     25\u001b[0m \u001b[0;32mdef\u001b[0m \u001b[0mclass_given_verb\u001b[0m\u001b[0;34m(\u001b[0m\u001b[0msearch_verb\u001b[0m\u001b[0;34m)\u001b[0m\u001b[0;34m:\u001b[0m\u001b[0;34m\u001b[0m\u001b[0m\n",
      "\u001b[0;32m<ipython-input-180-6c62797c66c7>\u001b[0m in \u001b[0;36mframes_given_class\u001b[0;34m(clss)\u001b[0m\n\u001b[1;32m     20\u001b[0m                 \u001b[0;32mif\u001b[0m \u001b[0msearch_class\u001b[0m \u001b[0;34m==\u001b[0m \u001b[0mkeys\u001b[0m\u001b[0;34m:\u001b[0m \u001b[0;31m# change made here\u001b[0m\u001b[0;34m\u001b[0m\u001b[0m\n\u001b[1;32m     21\u001b[0m                     \u001b[0mnew_class\u001b[0m \u001b[0;34m=\u001b[0m \u001b[0mx\u001b[0m\u001b[0;34m\u001b[0m\u001b[0m\n\u001b[0;32m---> 22\u001b[0;31m         \u001b[0;32mreturn\u001b[0m\u001b[0;34m(\u001b[0m\u001b[0mframes\u001b[0m \u001b[0;34m+\u001b[0m \u001b[0mframes_given_class\u001b[0m\u001b[0;34m(\u001b[0m\u001b[0mnew_class\u001b[0m\u001b[0;34m)\u001b[0m\u001b[0;34m)\u001b[0m\u001b[0;34m\u001b[0m\u001b[0m\n\u001b[0m\u001b[1;32m     23\u001b[0m     \u001b[0;32mreturn\u001b[0m\u001b[0;34m(\u001b[0m\u001b[0mframes_given_class\u001b[0m\u001b[0;34m(\u001b[0m\u001b[0mclss\u001b[0m\u001b[0;34m)\u001b[0m\u001b[0;34m)\u001b[0m\u001b[0;34m\u001b[0m\u001b[0m\n\u001b[1;32m     24\u001b[0m \u001b[0;34m\u001b[0m\u001b[0m\n",
      "\u001b[0;31mUnboundLocalError\u001b[0m: local variable 'new_class' referenced before assignment"
     ]
    }
   ],
   "source": [
    "print(frames_given_verb('abandon (class: leave-51.2)'))"
   ]
  },
  {
   "cell_type": "code",
   "execution_count": 183,
   "metadata": {},
   "outputs": [
    {
     "name": "stdout",
     "output_type": "stream",
     "text": [
      "dog\n"
     ]
    }
   ],
   "source": [
    "for lu in {'dog':2}:\n",
    "    print(lu)"
   ]
  },
  {
   "cell_type": "code",
   "execution_count": 158,
   "metadata": {},
   "outputs": [
    {
     "data": {
      "text/plain": [
       "'do'"
      ]
     },
     "execution_count": 158,
     "metadata": {},
     "output_type": "execute_result"
    }
   ],
   "source": [
    "'dog'[:'dog'.rfind('g')]"
   ]
  },
  {
   "cell_type": "code",
   "execution_count": null,
   "metadata": {
    "collapsed": true
   },
   "outputs": [],
   "source": []
  }
 ],
 "metadata": {
  "kernelspec": {
   "display_name": "Python 3",
   "language": "python",
   "name": "python3"
  },
  "language_info": {
   "codemirror_mode": {
    "name": "ipython",
    "version": 3
   },
   "file_extension": ".py",
   "mimetype": "text/x-python",
   "name": "python",
   "nbconvert_exporter": "python",
   "pygments_lexer": "ipython3",
   "version": "3.6.1"
  }
 },
 "nbformat": 4,
 "nbformat_minor": 2
}
